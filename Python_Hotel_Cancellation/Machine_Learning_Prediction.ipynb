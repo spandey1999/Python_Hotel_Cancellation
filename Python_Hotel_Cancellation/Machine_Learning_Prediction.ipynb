{
 "cells": [
  {
   "cell_type": "code",
   "execution_count": 1,
   "id": "8d17465c",
   "metadata": {},
   "outputs": [],
   "source": [
    "import pandas as pd\n",
    "import numpy as np\n",
    "import matplotlib.pyplot as plt\n",
    "import seaborn as sns\n",
    "from sklearn.metrics import f1_score, accuracy_score, recall_score, confusion_matrix,classification_report, precision_score, roc_auc_score\n",
    "from sklearn.model_selection import train_test_split, GridSearchCV, RandomizedSearchCV\n",
    "from sklearn.tree import DecisionTreeClassifier\n",
    "from xgboost import XGBClassifier\n",
    "from sklearn.ensemble import RandomForestClassifier\n",
    "from sklearn.pipeline import Pipeline\n",
    "from sklearn.preprocessing import OneHotEncoder, LabelEncoder, MinMaxScaler, StandardScaler, RobustScaler\n",
    "from sklearn.compose import ColumnTransformer\n",
    "from sklearn.linear_model import LogisticRegression\n",
    "from sklearn.neighbors import KNeighborsClassifier\n",
    "import joblib\n",
    "\n",
    "import warnings\n",
    "warnings.filterwarnings('ignore')\n",
    "\n",
    "pd.set_option('display.max_columns', None)"
   ]
  },
  {
   "cell_type": "markdown",
   "id": "cd40c083",
   "metadata": {},
   "source": [
    "## Checking the Data"
   ]
  },
  {
   "cell_type": "code",
   "execution_count": 2,
   "id": "437f513b",
   "metadata": {},
   "outputs": [
    {
     "data": {
      "text/html": [
       "<div>\n",
       "<style scoped>\n",
       "    .dataframe tbody tr th:only-of-type {\n",
       "        vertical-align: middle;\n",
       "    }\n",
       "\n",
       "    .dataframe tbody tr th {\n",
       "        vertical-align: top;\n",
       "    }\n",
       "\n",
       "    .dataframe thead th {\n",
       "        text-align: right;\n",
       "    }\n",
       "</style>\n",
       "<table border=\"1\" class=\"dataframe\">\n",
       "  <thead>\n",
       "    <tr style=\"text-align: right;\">\n",
       "      <th></th>\n",
       "      <th>hotel</th>\n",
       "      <th>is_canceled</th>\n",
       "      <th>lead_time</th>\n",
       "      <th>arrival_date_year</th>\n",
       "      <th>arrival_date_month</th>\n",
       "      <th>arrival_date_week_number</th>\n",
       "      <th>arrival_date_day_of_month</th>\n",
       "      <th>adults</th>\n",
       "      <th>meal</th>\n",
       "      <th>country</th>\n",
       "      <th>market_segment</th>\n",
       "      <th>distribution_channel</th>\n",
       "      <th>is_repeated_guest</th>\n",
       "      <th>previous_cancellations</th>\n",
       "      <th>previous_bookings_not_canceled</th>\n",
       "      <th>reserved_room_type</th>\n",
       "      <th>assigned_room_type</th>\n",
       "      <th>booking_changes</th>\n",
       "      <th>deposit_type</th>\n",
       "      <th>days_in_waiting_list</th>\n",
       "      <th>customer_type</th>\n",
       "      <th>adr</th>\n",
       "      <th>required_car_parking_spaces</th>\n",
       "      <th>total_of_special_requests</th>\n",
       "      <th>reservation_status</th>\n",
       "      <th>reservation_status_date</th>\n",
       "      <th>arrival_date</th>\n",
       "      <th>arrival_month</th>\n",
       "      <th>arrival_day</th>\n",
       "      <th>month_year</th>\n",
       "      <th>stays</th>\n",
       "      <th>guests</th>\n",
       "      <th>kids</th>\n",
       "      <th>lead_time_month</th>\n",
       "      <th>booking_country</th>\n",
       "      <th>is_previously_cancelled</th>\n",
       "      <th>is_booking_changes</th>\n",
       "      <th>parking_space</th>\n",
       "    </tr>\n",
       "  </thead>\n",
       "  <tbody>\n",
       "    <tr>\n",
       "      <th>0</th>\n",
       "      <td>Resort Hotel</td>\n",
       "      <td>0</td>\n",
       "      <td>342</td>\n",
       "      <td>2015</td>\n",
       "      <td>July</td>\n",
       "      <td>27</td>\n",
       "      <td>1</td>\n",
       "      <td>2</td>\n",
       "      <td>BB</td>\n",
       "      <td>PRT</td>\n",
       "      <td>Direct</td>\n",
       "      <td>Direct</td>\n",
       "      <td>0</td>\n",
       "      <td>0</td>\n",
       "      <td>0</td>\n",
       "      <td>C</td>\n",
       "      <td>C</td>\n",
       "      <td>3</td>\n",
       "      <td>No Deposit</td>\n",
       "      <td>0</td>\n",
       "      <td>Transient</td>\n",
       "      <td>0.0</td>\n",
       "      <td>0</td>\n",
       "      <td>0</td>\n",
       "      <td>Check-Out</td>\n",
       "      <td>2015-07-01</td>\n",
       "      <td>2015-07-01</td>\n",
       "      <td>7</td>\n",
       "      <td>Wednesday</td>\n",
       "      <td>2015-07</td>\n",
       "      <td>0</td>\n",
       "      <td>2.0</td>\n",
       "      <td>0.0</td>\n",
       "      <td>11</td>\n",
       "      <td>Portugal</td>\n",
       "      <td>0</td>\n",
       "      <td>1</td>\n",
       "      <td>0</td>\n",
       "    </tr>\n",
       "    <tr>\n",
       "      <th>1</th>\n",
       "      <td>Resort Hotel</td>\n",
       "      <td>0</td>\n",
       "      <td>737</td>\n",
       "      <td>2015</td>\n",
       "      <td>July</td>\n",
       "      <td>27</td>\n",
       "      <td>1</td>\n",
       "      <td>2</td>\n",
       "      <td>BB</td>\n",
       "      <td>PRT</td>\n",
       "      <td>Direct</td>\n",
       "      <td>Direct</td>\n",
       "      <td>0</td>\n",
       "      <td>0</td>\n",
       "      <td>0</td>\n",
       "      <td>C</td>\n",
       "      <td>C</td>\n",
       "      <td>4</td>\n",
       "      <td>No Deposit</td>\n",
       "      <td>0</td>\n",
       "      <td>Transient</td>\n",
       "      <td>0.0</td>\n",
       "      <td>0</td>\n",
       "      <td>0</td>\n",
       "      <td>Check-Out</td>\n",
       "      <td>2015-07-01</td>\n",
       "      <td>2015-07-01</td>\n",
       "      <td>7</td>\n",
       "      <td>Wednesday</td>\n",
       "      <td>2015-07</td>\n",
       "      <td>0</td>\n",
       "      <td>2.0</td>\n",
       "      <td>0.0</td>\n",
       "      <td>24</td>\n",
       "      <td>Portugal</td>\n",
       "      <td>0</td>\n",
       "      <td>1</td>\n",
       "      <td>0</td>\n",
       "    </tr>\n",
       "    <tr>\n",
       "      <th>2</th>\n",
       "      <td>Resort Hotel</td>\n",
       "      <td>0</td>\n",
       "      <td>7</td>\n",
       "      <td>2015</td>\n",
       "      <td>July</td>\n",
       "      <td>27</td>\n",
       "      <td>1</td>\n",
       "      <td>1</td>\n",
       "      <td>BB</td>\n",
       "      <td>GBR</td>\n",
       "      <td>Direct</td>\n",
       "      <td>Direct</td>\n",
       "      <td>0</td>\n",
       "      <td>0</td>\n",
       "      <td>0</td>\n",
       "      <td>A</td>\n",
       "      <td>C</td>\n",
       "      <td>0</td>\n",
       "      <td>No Deposit</td>\n",
       "      <td>0</td>\n",
       "      <td>Transient</td>\n",
       "      <td>75.0</td>\n",
       "      <td>0</td>\n",
       "      <td>0</td>\n",
       "      <td>Check-Out</td>\n",
       "      <td>2015-07-02</td>\n",
       "      <td>2015-07-01</td>\n",
       "      <td>7</td>\n",
       "      <td>Wednesday</td>\n",
       "      <td>2015-07</td>\n",
       "      <td>1</td>\n",
       "      <td>1.0</td>\n",
       "      <td>0.0</td>\n",
       "      <td>0</td>\n",
       "      <td>Non_Portugal</td>\n",
       "      <td>0</td>\n",
       "      <td>0</td>\n",
       "      <td>0</td>\n",
       "    </tr>\n",
       "    <tr>\n",
       "      <th>3</th>\n",
       "      <td>Resort Hotel</td>\n",
       "      <td>0</td>\n",
       "      <td>13</td>\n",
       "      <td>2015</td>\n",
       "      <td>July</td>\n",
       "      <td>27</td>\n",
       "      <td>1</td>\n",
       "      <td>1</td>\n",
       "      <td>BB</td>\n",
       "      <td>GBR</td>\n",
       "      <td>Corporate</td>\n",
       "      <td>Corporate</td>\n",
       "      <td>0</td>\n",
       "      <td>0</td>\n",
       "      <td>0</td>\n",
       "      <td>A</td>\n",
       "      <td>A</td>\n",
       "      <td>0</td>\n",
       "      <td>No Deposit</td>\n",
       "      <td>0</td>\n",
       "      <td>Transient</td>\n",
       "      <td>75.0</td>\n",
       "      <td>0</td>\n",
       "      <td>0</td>\n",
       "      <td>Check-Out</td>\n",
       "      <td>2015-07-02</td>\n",
       "      <td>2015-07-01</td>\n",
       "      <td>7</td>\n",
       "      <td>Wednesday</td>\n",
       "      <td>2015-07</td>\n",
       "      <td>1</td>\n",
       "      <td>1.0</td>\n",
       "      <td>0.0</td>\n",
       "      <td>0</td>\n",
       "      <td>Non_Portugal</td>\n",
       "      <td>0</td>\n",
       "      <td>0</td>\n",
       "      <td>0</td>\n",
       "    </tr>\n",
       "    <tr>\n",
       "      <th>4</th>\n",
       "      <td>Resort Hotel</td>\n",
       "      <td>0</td>\n",
       "      <td>14</td>\n",
       "      <td>2015</td>\n",
       "      <td>July</td>\n",
       "      <td>27</td>\n",
       "      <td>1</td>\n",
       "      <td>2</td>\n",
       "      <td>BB</td>\n",
       "      <td>GBR</td>\n",
       "      <td>Online TA</td>\n",
       "      <td>TA/TO</td>\n",
       "      <td>0</td>\n",
       "      <td>0</td>\n",
       "      <td>0</td>\n",
       "      <td>A</td>\n",
       "      <td>A</td>\n",
       "      <td>0</td>\n",
       "      <td>No Deposit</td>\n",
       "      <td>0</td>\n",
       "      <td>Transient</td>\n",
       "      <td>98.0</td>\n",
       "      <td>0</td>\n",
       "      <td>1</td>\n",
       "      <td>Check-Out</td>\n",
       "      <td>2015-07-03</td>\n",
       "      <td>2015-07-01</td>\n",
       "      <td>7</td>\n",
       "      <td>Wednesday</td>\n",
       "      <td>2015-07</td>\n",
       "      <td>2</td>\n",
       "      <td>2.0</td>\n",
       "      <td>0.0</td>\n",
       "      <td>0</td>\n",
       "      <td>Non_Portugal</td>\n",
       "      <td>0</td>\n",
       "      <td>0</td>\n",
       "      <td>0</td>\n",
       "    </tr>\n",
       "  </tbody>\n",
       "</table>\n",
       "</div>"
      ],
      "text/plain": [
       "          hotel  is_canceled  lead_time  arrival_date_year arrival_date_month  \\\n",
       "0  Resort Hotel            0        342               2015               July   \n",
       "1  Resort Hotel            0        737               2015               July   \n",
       "2  Resort Hotel            0          7               2015               July   \n",
       "3  Resort Hotel            0         13               2015               July   \n",
       "4  Resort Hotel            0         14               2015               July   \n",
       "\n",
       "   arrival_date_week_number  arrival_date_day_of_month  adults meal country  \\\n",
       "0                        27                          1       2   BB     PRT   \n",
       "1                        27                          1       2   BB     PRT   \n",
       "2                        27                          1       1   BB     GBR   \n",
       "3                        27                          1       1   BB     GBR   \n",
       "4                        27                          1       2   BB     GBR   \n",
       "\n",
       "  market_segment distribution_channel  is_repeated_guest  \\\n",
       "0         Direct               Direct                  0   \n",
       "1         Direct               Direct                  0   \n",
       "2         Direct               Direct                  0   \n",
       "3      Corporate            Corporate                  0   \n",
       "4      Online TA                TA/TO                  0   \n",
       "\n",
       "   previous_cancellations  previous_bookings_not_canceled reserved_room_type  \\\n",
       "0                       0                               0                  C   \n",
       "1                       0                               0                  C   \n",
       "2                       0                               0                  A   \n",
       "3                       0                               0                  A   \n",
       "4                       0                               0                  A   \n",
       "\n",
       "  assigned_room_type  booking_changes deposit_type  days_in_waiting_list  \\\n",
       "0                  C                3   No Deposit                     0   \n",
       "1                  C                4   No Deposit                     0   \n",
       "2                  C                0   No Deposit                     0   \n",
       "3                  A                0   No Deposit                     0   \n",
       "4                  A                0   No Deposit                     0   \n",
       "\n",
       "  customer_type   adr  required_car_parking_spaces  total_of_special_requests  \\\n",
       "0     Transient   0.0                            0                          0   \n",
       "1     Transient   0.0                            0                          0   \n",
       "2     Transient  75.0                            0                          0   \n",
       "3     Transient  75.0                            0                          0   \n",
       "4     Transient  98.0                            0                          1   \n",
       "\n",
       "  reservation_status reservation_status_date arrival_date  arrival_month  \\\n",
       "0          Check-Out              2015-07-01   2015-07-01              7   \n",
       "1          Check-Out              2015-07-01   2015-07-01              7   \n",
       "2          Check-Out              2015-07-02   2015-07-01              7   \n",
       "3          Check-Out              2015-07-02   2015-07-01              7   \n",
       "4          Check-Out              2015-07-03   2015-07-01              7   \n",
       "\n",
       "  arrival_day month_year  stays  guests  kids  lead_time_month  \\\n",
       "0   Wednesday    2015-07      0     2.0   0.0               11   \n",
       "1   Wednesday    2015-07      0     2.0   0.0               24   \n",
       "2   Wednesday    2015-07      1     1.0   0.0                0   \n",
       "3   Wednesday    2015-07      1     1.0   0.0                0   \n",
       "4   Wednesday    2015-07      2     2.0   0.0                0   \n",
       "\n",
       "  booking_country  is_previously_cancelled  is_booking_changes  parking_space  \n",
       "0        Portugal                        0                   1              0  \n",
       "1        Portugal                        0                   1              0  \n",
       "2    Non_Portugal                        0                   0              0  \n",
       "3    Non_Portugal                        0                   0              0  \n",
       "4    Non_Portugal                        0                   0              0  "
      ]
     },
     "execution_count": 2,
     "metadata": {},
     "output_type": "execute_result"
    }
   ],
   "source": [
    "df= pd.read_csv('hotel_booking_Model_Data.csv')\n",
    "df.head()"
   ]
  },
  {
   "cell_type": "code",
   "execution_count": 3,
   "id": "899f19bf",
   "metadata": {},
   "outputs": [
    {
     "name": "stdout",
     "output_type": "stream",
     "text": [
      "<class 'pandas.core.frame.DataFrame'>\n",
      "RangeIndex: 118986 entries, 0 to 118985\n",
      "Data columns (total 38 columns):\n",
      " #   Column                          Non-Null Count   Dtype  \n",
      "---  ------                          --------------   -----  \n",
      " 0   hotel                           118986 non-null  object \n",
      " 1   is_canceled                     118986 non-null  int64  \n",
      " 2   lead_time                       118986 non-null  int64  \n",
      " 3   arrival_date_year               118986 non-null  int64  \n",
      " 4   arrival_date_month              118986 non-null  object \n",
      " 5   arrival_date_week_number        118986 non-null  int64  \n",
      " 6   arrival_date_day_of_month       118986 non-null  int64  \n",
      " 7   adults                          118986 non-null  int64  \n",
      " 8   meal                            118986 non-null  object \n",
      " 9   country                         118986 non-null  object \n",
      " 10  market_segment                  118986 non-null  object \n",
      " 11  distribution_channel            118986 non-null  object \n",
      " 12  is_repeated_guest               118986 non-null  int64  \n",
      " 13  previous_cancellations          118986 non-null  int64  \n",
      " 14  previous_bookings_not_canceled  118986 non-null  int64  \n",
      " 15  reserved_room_type              118986 non-null  object \n",
      " 16  assigned_room_type              118986 non-null  object \n",
      " 17  booking_changes                 118986 non-null  int64  \n",
      " 18  deposit_type                    118986 non-null  object \n",
      " 19  days_in_waiting_list            118986 non-null  int64  \n",
      " 20  customer_type                   118986 non-null  object \n",
      " 21  adr                             118986 non-null  float64\n",
      " 22  required_car_parking_spaces     118986 non-null  int64  \n",
      " 23  total_of_special_requests       118986 non-null  int64  \n",
      " 24  reservation_status              118986 non-null  object \n",
      " 25  reservation_status_date         118986 non-null  object \n",
      " 26  arrival_date                    118986 non-null  object \n",
      " 27  arrival_month                   118986 non-null  int64  \n",
      " 28  arrival_day                     118986 non-null  object \n",
      " 29  month_year                      118986 non-null  object \n",
      " 30  stays                           118986 non-null  int64  \n",
      " 31  guests                          118986 non-null  float64\n",
      " 32  kids                            118986 non-null  float64\n",
      " 33  lead_time_month                 118986 non-null  int64  \n",
      " 34  booking_country                 118986 non-null  object \n",
      " 35  is_previously_cancelled         118986 non-null  int64  \n",
      " 36  is_booking_changes              118986 non-null  int64  \n",
      " 37  parking_space                   118986 non-null  int64  \n",
      "dtypes: float64(3), int64(19), object(16)\n",
      "memory usage: 34.5+ MB\n"
     ]
    }
   ],
   "source": [
    "df.info()"
   ]
  },
  {
   "cell_type": "markdown",
   "id": "1d7d0440",
   "metadata": {},
   "source": [
    "### preprocessing hotel & booking_country labels because there are only 2 unique values.¶"
   ]
  },
  {
   "cell_type": "code",
   "execution_count": 4,
   "id": "df3a99f1",
   "metadata": {},
   "outputs": [],
   "source": [
    "\n",
    "df['hotel_label'] = df['hotel'].map({'Resort Hotel':0, 'City Hotel': 1})\n",
    "\n",
    "df['booking_country_label'] =df['booking_country'].map({'Portugal':0, 'Non_Portugal':1})"
   ]
  },
  {
   "cell_type": "code",
   "execution_count": 5,
   "id": "87d6dc58",
   "metadata": {},
   "outputs": [
    {
     "data": {
      "text/html": [
       "<div>\n",
       "<style scoped>\n",
       "    .dataframe tbody tr th:only-of-type {\n",
       "        vertical-align: middle;\n",
       "    }\n",
       "\n",
       "    .dataframe tbody tr th {\n",
       "        vertical-align: top;\n",
       "    }\n",
       "\n",
       "    .dataframe thead th {\n",
       "        text-align: right;\n",
       "    }\n",
       "</style>\n",
       "<table border=\"1\" class=\"dataframe\">\n",
       "  <thead>\n",
       "    <tr style=\"text-align: right;\">\n",
       "      <th></th>\n",
       "      <th>hotel</th>\n",
       "      <th>is_canceled</th>\n",
       "      <th>lead_time</th>\n",
       "      <th>arrival_date_year</th>\n",
       "      <th>arrival_date_month</th>\n",
       "      <th>arrival_date_week_number</th>\n",
       "      <th>arrival_date_day_of_month</th>\n",
       "      <th>adults</th>\n",
       "      <th>meal</th>\n",
       "      <th>country</th>\n",
       "      <th>market_segment</th>\n",
       "      <th>distribution_channel</th>\n",
       "      <th>is_repeated_guest</th>\n",
       "      <th>previous_cancellations</th>\n",
       "      <th>previous_bookings_not_canceled</th>\n",
       "      <th>reserved_room_type</th>\n",
       "      <th>assigned_room_type</th>\n",
       "      <th>booking_changes</th>\n",
       "      <th>deposit_type</th>\n",
       "      <th>days_in_waiting_list</th>\n",
       "      <th>customer_type</th>\n",
       "      <th>adr</th>\n",
       "      <th>required_car_parking_spaces</th>\n",
       "      <th>total_of_special_requests</th>\n",
       "      <th>reservation_status</th>\n",
       "      <th>reservation_status_date</th>\n",
       "      <th>arrival_date</th>\n",
       "      <th>arrival_month</th>\n",
       "      <th>arrival_day</th>\n",
       "      <th>month_year</th>\n",
       "      <th>stays</th>\n",
       "      <th>guests</th>\n",
       "      <th>kids</th>\n",
       "      <th>lead_time_month</th>\n",
       "      <th>booking_country</th>\n",
       "      <th>is_previously_cancelled</th>\n",
       "      <th>is_booking_changes</th>\n",
       "      <th>parking_space</th>\n",
       "      <th>hotel_label</th>\n",
       "      <th>booking_country_label</th>\n",
       "    </tr>\n",
       "  </thead>\n",
       "  <tbody>\n",
       "    <tr>\n",
       "      <th>0</th>\n",
       "      <td>Resort Hotel</td>\n",
       "      <td>0</td>\n",
       "      <td>342</td>\n",
       "      <td>2015</td>\n",
       "      <td>July</td>\n",
       "      <td>27</td>\n",
       "      <td>1</td>\n",
       "      <td>2</td>\n",
       "      <td>BB</td>\n",
       "      <td>PRT</td>\n",
       "      <td>Direct</td>\n",
       "      <td>Direct</td>\n",
       "      <td>0</td>\n",
       "      <td>0</td>\n",
       "      <td>0</td>\n",
       "      <td>C</td>\n",
       "      <td>C</td>\n",
       "      <td>3</td>\n",
       "      <td>No Deposit</td>\n",
       "      <td>0</td>\n",
       "      <td>Transient</td>\n",
       "      <td>0.0</td>\n",
       "      <td>0</td>\n",
       "      <td>0</td>\n",
       "      <td>Check-Out</td>\n",
       "      <td>2015-07-01</td>\n",
       "      <td>2015-07-01</td>\n",
       "      <td>7</td>\n",
       "      <td>Wednesday</td>\n",
       "      <td>2015-07</td>\n",
       "      <td>0</td>\n",
       "      <td>2.0</td>\n",
       "      <td>0.0</td>\n",
       "      <td>11</td>\n",
       "      <td>Portugal</td>\n",
       "      <td>0</td>\n",
       "      <td>1</td>\n",
       "      <td>0</td>\n",
       "      <td>0</td>\n",
       "      <td>0</td>\n",
       "    </tr>\n",
       "    <tr>\n",
       "      <th>1</th>\n",
       "      <td>Resort Hotel</td>\n",
       "      <td>0</td>\n",
       "      <td>737</td>\n",
       "      <td>2015</td>\n",
       "      <td>July</td>\n",
       "      <td>27</td>\n",
       "      <td>1</td>\n",
       "      <td>2</td>\n",
       "      <td>BB</td>\n",
       "      <td>PRT</td>\n",
       "      <td>Direct</td>\n",
       "      <td>Direct</td>\n",
       "      <td>0</td>\n",
       "      <td>0</td>\n",
       "      <td>0</td>\n",
       "      <td>C</td>\n",
       "      <td>C</td>\n",
       "      <td>4</td>\n",
       "      <td>No Deposit</td>\n",
       "      <td>0</td>\n",
       "      <td>Transient</td>\n",
       "      <td>0.0</td>\n",
       "      <td>0</td>\n",
       "      <td>0</td>\n",
       "      <td>Check-Out</td>\n",
       "      <td>2015-07-01</td>\n",
       "      <td>2015-07-01</td>\n",
       "      <td>7</td>\n",
       "      <td>Wednesday</td>\n",
       "      <td>2015-07</td>\n",
       "      <td>0</td>\n",
       "      <td>2.0</td>\n",
       "      <td>0.0</td>\n",
       "      <td>24</td>\n",
       "      <td>Portugal</td>\n",
       "      <td>0</td>\n",
       "      <td>1</td>\n",
       "      <td>0</td>\n",
       "      <td>0</td>\n",
       "      <td>0</td>\n",
       "    </tr>\n",
       "    <tr>\n",
       "      <th>2</th>\n",
       "      <td>Resort Hotel</td>\n",
       "      <td>0</td>\n",
       "      <td>7</td>\n",
       "      <td>2015</td>\n",
       "      <td>July</td>\n",
       "      <td>27</td>\n",
       "      <td>1</td>\n",
       "      <td>1</td>\n",
       "      <td>BB</td>\n",
       "      <td>GBR</td>\n",
       "      <td>Direct</td>\n",
       "      <td>Direct</td>\n",
       "      <td>0</td>\n",
       "      <td>0</td>\n",
       "      <td>0</td>\n",
       "      <td>A</td>\n",
       "      <td>C</td>\n",
       "      <td>0</td>\n",
       "      <td>No Deposit</td>\n",
       "      <td>0</td>\n",
       "      <td>Transient</td>\n",
       "      <td>75.0</td>\n",
       "      <td>0</td>\n",
       "      <td>0</td>\n",
       "      <td>Check-Out</td>\n",
       "      <td>2015-07-02</td>\n",
       "      <td>2015-07-01</td>\n",
       "      <td>7</td>\n",
       "      <td>Wednesday</td>\n",
       "      <td>2015-07</td>\n",
       "      <td>1</td>\n",
       "      <td>1.0</td>\n",
       "      <td>0.0</td>\n",
       "      <td>0</td>\n",
       "      <td>Non_Portugal</td>\n",
       "      <td>0</td>\n",
       "      <td>0</td>\n",
       "      <td>0</td>\n",
       "      <td>0</td>\n",
       "      <td>1</td>\n",
       "    </tr>\n",
       "    <tr>\n",
       "      <th>3</th>\n",
       "      <td>Resort Hotel</td>\n",
       "      <td>0</td>\n",
       "      <td>13</td>\n",
       "      <td>2015</td>\n",
       "      <td>July</td>\n",
       "      <td>27</td>\n",
       "      <td>1</td>\n",
       "      <td>1</td>\n",
       "      <td>BB</td>\n",
       "      <td>GBR</td>\n",
       "      <td>Corporate</td>\n",
       "      <td>Corporate</td>\n",
       "      <td>0</td>\n",
       "      <td>0</td>\n",
       "      <td>0</td>\n",
       "      <td>A</td>\n",
       "      <td>A</td>\n",
       "      <td>0</td>\n",
       "      <td>No Deposit</td>\n",
       "      <td>0</td>\n",
       "      <td>Transient</td>\n",
       "      <td>75.0</td>\n",
       "      <td>0</td>\n",
       "      <td>0</td>\n",
       "      <td>Check-Out</td>\n",
       "      <td>2015-07-02</td>\n",
       "      <td>2015-07-01</td>\n",
       "      <td>7</td>\n",
       "      <td>Wednesday</td>\n",
       "      <td>2015-07</td>\n",
       "      <td>1</td>\n",
       "      <td>1.0</td>\n",
       "      <td>0.0</td>\n",
       "      <td>0</td>\n",
       "      <td>Non_Portugal</td>\n",
       "      <td>0</td>\n",
       "      <td>0</td>\n",
       "      <td>0</td>\n",
       "      <td>0</td>\n",
       "      <td>1</td>\n",
       "    </tr>\n",
       "    <tr>\n",
       "      <th>4</th>\n",
       "      <td>Resort Hotel</td>\n",
       "      <td>0</td>\n",
       "      <td>14</td>\n",
       "      <td>2015</td>\n",
       "      <td>July</td>\n",
       "      <td>27</td>\n",
       "      <td>1</td>\n",
       "      <td>2</td>\n",
       "      <td>BB</td>\n",
       "      <td>GBR</td>\n",
       "      <td>Online TA</td>\n",
       "      <td>TA/TO</td>\n",
       "      <td>0</td>\n",
       "      <td>0</td>\n",
       "      <td>0</td>\n",
       "      <td>A</td>\n",
       "      <td>A</td>\n",
       "      <td>0</td>\n",
       "      <td>No Deposit</td>\n",
       "      <td>0</td>\n",
       "      <td>Transient</td>\n",
       "      <td>98.0</td>\n",
       "      <td>0</td>\n",
       "      <td>1</td>\n",
       "      <td>Check-Out</td>\n",
       "      <td>2015-07-03</td>\n",
       "      <td>2015-07-01</td>\n",
       "      <td>7</td>\n",
       "      <td>Wednesday</td>\n",
       "      <td>2015-07</td>\n",
       "      <td>2</td>\n",
       "      <td>2.0</td>\n",
       "      <td>0.0</td>\n",
       "      <td>0</td>\n",
       "      <td>Non_Portugal</td>\n",
       "      <td>0</td>\n",
       "      <td>0</td>\n",
       "      <td>0</td>\n",
       "      <td>0</td>\n",
       "      <td>1</td>\n",
       "    </tr>\n",
       "  </tbody>\n",
       "</table>\n",
       "</div>"
      ],
      "text/plain": [
       "          hotel  is_canceled  lead_time  arrival_date_year arrival_date_month  \\\n",
       "0  Resort Hotel            0        342               2015               July   \n",
       "1  Resort Hotel            0        737               2015               July   \n",
       "2  Resort Hotel            0          7               2015               July   \n",
       "3  Resort Hotel            0         13               2015               July   \n",
       "4  Resort Hotel            0         14               2015               July   \n",
       "\n",
       "   arrival_date_week_number  arrival_date_day_of_month  adults meal country  \\\n",
       "0                        27                          1       2   BB     PRT   \n",
       "1                        27                          1       2   BB     PRT   \n",
       "2                        27                          1       1   BB     GBR   \n",
       "3                        27                          1       1   BB     GBR   \n",
       "4                        27                          1       2   BB     GBR   \n",
       "\n",
       "  market_segment distribution_channel  is_repeated_guest  \\\n",
       "0         Direct               Direct                  0   \n",
       "1         Direct               Direct                  0   \n",
       "2         Direct               Direct                  0   \n",
       "3      Corporate            Corporate                  0   \n",
       "4      Online TA                TA/TO                  0   \n",
       "\n",
       "   previous_cancellations  previous_bookings_not_canceled reserved_room_type  \\\n",
       "0                       0                               0                  C   \n",
       "1                       0                               0                  C   \n",
       "2                       0                               0                  A   \n",
       "3                       0                               0                  A   \n",
       "4                       0                               0                  A   \n",
       "\n",
       "  assigned_room_type  booking_changes deposit_type  days_in_waiting_list  \\\n",
       "0                  C                3   No Deposit                     0   \n",
       "1                  C                4   No Deposit                     0   \n",
       "2                  C                0   No Deposit                     0   \n",
       "3                  A                0   No Deposit                     0   \n",
       "4                  A                0   No Deposit                     0   \n",
       "\n",
       "  customer_type   adr  required_car_parking_spaces  total_of_special_requests  \\\n",
       "0     Transient   0.0                            0                          0   \n",
       "1     Transient   0.0                            0                          0   \n",
       "2     Transient  75.0                            0                          0   \n",
       "3     Transient  75.0                            0                          0   \n",
       "4     Transient  98.0                            0                          1   \n",
       "\n",
       "  reservation_status reservation_status_date arrival_date  arrival_month  \\\n",
       "0          Check-Out              2015-07-01   2015-07-01              7   \n",
       "1          Check-Out              2015-07-01   2015-07-01              7   \n",
       "2          Check-Out              2015-07-02   2015-07-01              7   \n",
       "3          Check-Out              2015-07-02   2015-07-01              7   \n",
       "4          Check-Out              2015-07-03   2015-07-01              7   \n",
       "\n",
       "  arrival_day month_year  stays  guests  kids  lead_time_month  \\\n",
       "0   Wednesday    2015-07      0     2.0   0.0               11   \n",
       "1   Wednesday    2015-07      0     2.0   0.0               24   \n",
       "2   Wednesday    2015-07      1     1.0   0.0                0   \n",
       "3   Wednesday    2015-07      1     1.0   0.0                0   \n",
       "4   Wednesday    2015-07      2     2.0   0.0                0   \n",
       "\n",
       "  booking_country  is_previously_cancelled  is_booking_changes  parking_space  \\\n",
       "0        Portugal                        0                   1              0   \n",
       "1        Portugal                        0                   1              0   \n",
       "2    Non_Portugal                        0                   0              0   \n",
       "3    Non_Portugal                        0                   0              0   \n",
       "4    Non_Portugal                        0                   0              0   \n",
       "\n",
       "   hotel_label  booking_country_label  \n",
       "0            0                      0  \n",
       "1            0                      0  \n",
       "2            0                      1  \n",
       "3            0                      1  \n",
       "4            0                      1  "
      ]
     },
     "execution_count": 5,
     "metadata": {},
     "output_type": "execute_result"
    }
   ],
   "source": [
    "df.head()"
   ]
  },
  {
   "cell_type": "markdown",
   "id": "a4fda39d",
   "metadata": {},
   "source": [
    "## Model Building"
   ]
  },
  {
   "cell_type": "code",
   "execution_count": 6,
   "id": "6486b8b3",
   "metadata": {},
   "outputs": [
    {
     "data": {
      "text/html": [
       "<div>\n",
       "<style scoped>\n",
       "    .dataframe tbody tr th:only-of-type {\n",
       "        vertical-align: middle;\n",
       "    }\n",
       "\n",
       "    .dataframe tbody tr th {\n",
       "        vertical-align: top;\n",
       "    }\n",
       "\n",
       "    .dataframe thead th {\n",
       "        text-align: right;\n",
       "    }\n",
       "</style>\n",
       "<table border=\"1\" class=\"dataframe\">\n",
       "  <thead>\n",
       "    <tr style=\"text-align: right;\">\n",
       "      <th></th>\n",
       "      <th>is_canceled</th>\n",
       "      <th>lead_time</th>\n",
       "      <th>market_segment</th>\n",
       "      <th>is_repeated_guest</th>\n",
       "      <th>deposit_type</th>\n",
       "      <th>customer_type</th>\n",
       "      <th>total_of_special_requests</th>\n",
       "      <th>reservation_status_date</th>\n",
       "      <th>arrival_month</th>\n",
       "      <th>stays</th>\n",
       "      <th>guests</th>\n",
       "      <th>is_previously_cancelled</th>\n",
       "      <th>is_booking_changes</th>\n",
       "      <th>parking_space</th>\n",
       "      <th>hotel_label</th>\n",
       "      <th>booking_country_label</th>\n",
       "    </tr>\n",
       "  </thead>\n",
       "  <tbody>\n",
       "    <tr>\n",
       "      <th>0</th>\n",
       "      <td>0</td>\n",
       "      <td>342</td>\n",
       "      <td>Direct</td>\n",
       "      <td>0</td>\n",
       "      <td>No Deposit</td>\n",
       "      <td>Transient</td>\n",
       "      <td>0</td>\n",
       "      <td>2015-07-01</td>\n",
       "      <td>7</td>\n",
       "      <td>0</td>\n",
       "      <td>2.0</td>\n",
       "      <td>0</td>\n",
       "      <td>1</td>\n",
       "      <td>0</td>\n",
       "      <td>0</td>\n",
       "      <td>0</td>\n",
       "    </tr>\n",
       "    <tr>\n",
       "      <th>1</th>\n",
       "      <td>0</td>\n",
       "      <td>737</td>\n",
       "      <td>Direct</td>\n",
       "      <td>0</td>\n",
       "      <td>No Deposit</td>\n",
       "      <td>Transient</td>\n",
       "      <td>0</td>\n",
       "      <td>2015-07-01</td>\n",
       "      <td>7</td>\n",
       "      <td>0</td>\n",
       "      <td>2.0</td>\n",
       "      <td>0</td>\n",
       "      <td>1</td>\n",
       "      <td>0</td>\n",
       "      <td>0</td>\n",
       "      <td>0</td>\n",
       "    </tr>\n",
       "    <tr>\n",
       "      <th>2</th>\n",
       "      <td>0</td>\n",
       "      <td>7</td>\n",
       "      <td>Direct</td>\n",
       "      <td>0</td>\n",
       "      <td>No Deposit</td>\n",
       "      <td>Transient</td>\n",
       "      <td>0</td>\n",
       "      <td>2015-07-02</td>\n",
       "      <td>7</td>\n",
       "      <td>1</td>\n",
       "      <td>1.0</td>\n",
       "      <td>0</td>\n",
       "      <td>0</td>\n",
       "      <td>0</td>\n",
       "      <td>0</td>\n",
       "      <td>1</td>\n",
       "    </tr>\n",
       "    <tr>\n",
       "      <th>3</th>\n",
       "      <td>0</td>\n",
       "      <td>13</td>\n",
       "      <td>Corporate</td>\n",
       "      <td>0</td>\n",
       "      <td>No Deposit</td>\n",
       "      <td>Transient</td>\n",
       "      <td>0</td>\n",
       "      <td>2015-07-02</td>\n",
       "      <td>7</td>\n",
       "      <td>1</td>\n",
       "      <td>1.0</td>\n",
       "      <td>0</td>\n",
       "      <td>0</td>\n",
       "      <td>0</td>\n",
       "      <td>0</td>\n",
       "      <td>1</td>\n",
       "    </tr>\n",
       "    <tr>\n",
       "      <th>4</th>\n",
       "      <td>0</td>\n",
       "      <td>14</td>\n",
       "      <td>Online TA</td>\n",
       "      <td>0</td>\n",
       "      <td>No Deposit</td>\n",
       "      <td>Transient</td>\n",
       "      <td>1</td>\n",
       "      <td>2015-07-03</td>\n",
       "      <td>7</td>\n",
       "      <td>2</td>\n",
       "      <td>2.0</td>\n",
       "      <td>0</td>\n",
       "      <td>0</td>\n",
       "      <td>0</td>\n",
       "      <td>0</td>\n",
       "      <td>1</td>\n",
       "    </tr>\n",
       "  </tbody>\n",
       "</table>\n",
       "</div>"
      ],
      "text/plain": [
       "   is_canceled  lead_time market_segment  is_repeated_guest deposit_type  \\\n",
       "0            0        342         Direct                  0   No Deposit   \n",
       "1            0        737         Direct                  0   No Deposit   \n",
       "2            0          7         Direct                  0   No Deposit   \n",
       "3            0         13      Corporate                  0   No Deposit   \n",
       "4            0         14      Online TA                  0   No Deposit   \n",
       "\n",
       "  customer_type  total_of_special_requests reservation_status_date  \\\n",
       "0     Transient                          0              2015-07-01   \n",
       "1     Transient                          0              2015-07-01   \n",
       "2     Transient                          0              2015-07-02   \n",
       "3     Transient                          0              2015-07-02   \n",
       "4     Transient                          1              2015-07-03   \n",
       "\n",
       "   arrival_month  stays  guests  is_previously_cancelled  is_booking_changes  \\\n",
       "0              7      0     2.0                        0                   1   \n",
       "1              7      0     2.0                        0                   1   \n",
       "2              7      1     1.0                        0                   0   \n",
       "3              7      1     1.0                        0                   0   \n",
       "4              7      2     2.0                        0                   0   \n",
       "\n",
       "   parking_space  hotel_label  booking_country_label  \n",
       "0              0            0                      0  \n",
       "1              0            0                      0  \n",
       "2              0            0                      1  \n",
       "3              0            0                      1  \n",
       "4              0            0                      1  "
      ]
     },
     "execution_count": 6,
     "metadata": {},
     "output_type": "execute_result"
    }
   ],
   "source": [
    "df = df.drop(columns = ['hotel','arrival_date_year','arrival_date_month','arrival_date_week_number','arrival_date_day_of_month'\n",
    "                        ,'adults','meal','country','distribution_channel','previous_cancellations','previous_bookings_not_canceled',\n",
    "                        'reserved_room_type','assigned_room_type','booking_changes','days_in_waiting_list','adr','required_car_parking_spaces',\n",
    "                        'reservation_status','required_car_parking_spaces','arrival_date','arrival_date','arrival_day',\n",
    "                        'month_year','kids','lead_time_month','booking_country'])\n",
    "                        \n",
    "df.head()"
   ]
  },
  {
   "cell_type": "code",
   "execution_count": 7,
   "id": "76dc24fa",
   "metadata": {},
   "outputs": [],
   "source": [
    "X = df.drop(\"is_canceled\",axis = 1)\n",
    "y = df['is_canceled']\n",
    "\n",
    "X_train, X_test, y_train, y_test = train_test_split(X, y, stratify = y, test_size = 0.2, random_state = 42)"
   ]
  },
  {
   "cell_type": "code",
   "execution_count": 8,
   "id": "4a1954aa",
   "metadata": {},
   "outputs": [
    {
     "data": {
      "text/html": [
       "<div>\n",
       "<style scoped>\n",
       "    .dataframe tbody tr th:only-of-type {\n",
       "        vertical-align: middle;\n",
       "    }\n",
       "\n",
       "    .dataframe tbody tr th {\n",
       "        vertical-align: top;\n",
       "    }\n",
       "\n",
       "    .dataframe thead th {\n",
       "        text-align: right;\n",
       "    }\n",
       "</style>\n",
       "<table border=\"1\" class=\"dataframe\">\n",
       "  <thead>\n",
       "    <tr style=\"text-align: right;\">\n",
       "      <th></th>\n",
       "      <th>lead_time</th>\n",
       "      <th>market_segment</th>\n",
       "      <th>is_repeated_guest</th>\n",
       "      <th>deposit_type</th>\n",
       "      <th>customer_type</th>\n",
       "      <th>total_of_special_requests</th>\n",
       "      <th>reservation_status_date</th>\n",
       "      <th>arrival_month</th>\n",
       "      <th>stays</th>\n",
       "      <th>guests</th>\n",
       "      <th>is_previously_cancelled</th>\n",
       "      <th>is_booking_changes</th>\n",
       "      <th>parking_space</th>\n",
       "      <th>hotel_label</th>\n",
       "      <th>booking_country_label</th>\n",
       "    </tr>\n",
       "  </thead>\n",
       "  <tbody>\n",
       "    <tr>\n",
       "      <th>30030</th>\n",
       "      <td>67</td>\n",
       "      <td>Online TA</td>\n",
       "      <td>0</td>\n",
       "      <td>No Deposit</td>\n",
       "      <td>Transient</td>\n",
       "      <td>2</td>\n",
       "      <td>2016-11-12</td>\n",
       "      <td>11</td>\n",
       "      <td>6</td>\n",
       "      <td>2.0</td>\n",
       "      <td>0</td>\n",
       "      <td>0</td>\n",
       "      <td>0</td>\n",
       "      <td>0</td>\n",
       "      <td>1</td>\n",
       "    </tr>\n",
       "    <tr>\n",
       "      <th>18679</th>\n",
       "      <td>15</td>\n",
       "      <td>Corporate</td>\n",
       "      <td>0</td>\n",
       "      <td>No Deposit</td>\n",
       "      <td>Transient-Party</td>\n",
       "      <td>0</td>\n",
       "      <td>2015-11-26</td>\n",
       "      <td>11</td>\n",
       "      <td>2</td>\n",
       "      <td>2.0</td>\n",
       "      <td>1</td>\n",
       "      <td>0</td>\n",
       "      <td>0</td>\n",
       "      <td>0</td>\n",
       "      <td>0</td>\n",
       "    </tr>\n",
       "    <tr>\n",
       "      <th>25566</th>\n",
       "      <td>301</td>\n",
       "      <td>Online TA</td>\n",
       "      <td>0</td>\n",
       "      <td>No Deposit</td>\n",
       "      <td>Transient</td>\n",
       "      <td>0</td>\n",
       "      <td>2016-07-03</td>\n",
       "      <td>6</td>\n",
       "      <td>13</td>\n",
       "      <td>2.0</td>\n",
       "      <td>0</td>\n",
       "      <td>0</td>\n",
       "      <td>0</td>\n",
       "      <td>0</td>\n",
       "      <td>1</td>\n",
       "    </tr>\n",
       "    <tr>\n",
       "      <th>52666</th>\n",
       "      <td>88</td>\n",
       "      <td>Online TA</td>\n",
       "      <td>0</td>\n",
       "      <td>No Deposit</td>\n",
       "      <td>Transient</td>\n",
       "      <td>0</td>\n",
       "      <td>2016-04-12</td>\n",
       "      <td>6</td>\n",
       "      <td>3</td>\n",
       "      <td>2.0</td>\n",
       "      <td>0</td>\n",
       "      <td>0</td>\n",
       "      <td>0</td>\n",
       "      <td>1</td>\n",
       "      <td>1</td>\n",
       "    </tr>\n",
       "    <tr>\n",
       "      <th>88107</th>\n",
       "      <td>56</td>\n",
       "      <td>Complementary</td>\n",
       "      <td>0</td>\n",
       "      <td>No Deposit</td>\n",
       "      <td>Transient</td>\n",
       "      <td>0</td>\n",
       "      <td>2016-05-04</td>\n",
       "      <td>5</td>\n",
       "      <td>1</td>\n",
       "      <td>2.0</td>\n",
       "      <td>0</td>\n",
       "      <td>0</td>\n",
       "      <td>0</td>\n",
       "      <td>1</td>\n",
       "      <td>0</td>\n",
       "    </tr>\n",
       "  </tbody>\n",
       "</table>\n",
       "</div>"
      ],
      "text/plain": [
       "       lead_time market_segment  is_repeated_guest deposit_type  \\\n",
       "30030         67      Online TA                  0   No Deposit   \n",
       "18679         15      Corporate                  0   No Deposit   \n",
       "25566        301      Online TA                  0   No Deposit   \n",
       "52666         88      Online TA                  0   No Deposit   \n",
       "88107         56  Complementary                  0   No Deposit   \n",
       "\n",
       "         customer_type  total_of_special_requests reservation_status_date  \\\n",
       "30030        Transient                          2              2016-11-12   \n",
       "18679  Transient-Party                          0              2015-11-26   \n",
       "25566        Transient                          0              2016-07-03   \n",
       "52666        Transient                          0              2016-04-12   \n",
       "88107        Transient                          0              2016-05-04   \n",
       "\n",
       "       arrival_month  stays  guests  is_previously_cancelled  \\\n",
       "30030             11      6     2.0                        0   \n",
       "18679             11      2     2.0                        1   \n",
       "25566              6     13     2.0                        0   \n",
       "52666              6      3     2.0                        0   \n",
       "88107              5      1     2.0                        0   \n",
       "\n",
       "       is_booking_changes  parking_space  hotel_label  booking_country_label  \n",
       "30030                   0              0            0                      1  \n",
       "18679                   0              0            0                      0  \n",
       "25566                   0              0            0                      1  \n",
       "52666                   0              0            1                      1  \n",
       "88107                   0              0            1                      0  "
      ]
     },
     "execution_count": 8,
     "metadata": {},
     "output_type": "execute_result"
    }
   ],
   "source": [
    "X_train.head()"
   ]
  },
  {
   "cell_type": "code",
   "execution_count": 9,
   "id": "cec61ab2",
   "metadata": {},
   "outputs": [],
   "source": [
    "categorical_columns = ['market_segment','deposit_type','customer_type']\n",
    "numerical_columns = ['lead_time','is_repeated_guest','total_of_special_requests', 'stays', 'guests', 'is_previously_cancelled', \n",
    "               'is_booking_changes','parking_space','hotel_label','booking_country_label']"
   ]
  },
  {
   "cell_type": "code",
   "execution_count": 10,
   "id": "e30fbeed",
   "metadata": {},
   "outputs": [],
   "source": [
    "categorical_pipeline = Pipeline([('encoder', OneHotEncoder())])\n",
    "\n",
    "numerical_pipeline = Pipeline([('scaler', RobustScaler())])\n",
    "\n",
    "prepocessor = ColumnTransformer([('categorical',categorical_pipeline,categorical_columns),\n",
    "                                 ('numerical', numerical_pipeline,numerical_columns)])\n",
    "\n",
    "pipe_logreg = Pipeline([(\"prep\", prepocessor),(\"algo\", LogisticRegression())])\n",
    "\n",
    "pipe_KNN = Pipeline([('prep', prepocessor),('algo', KNeighborsClassifier())])\n",
    "\n",
    "pipe_RF = Pipeline([(\"prep\", prepocessor),(\"algo\", RandomForestClassifier())])\n",
    "\n",
    "pipe_DT = Pipeline([(\"prep\", prepocessor),(\"algo\", DecisionTreeClassifier())])\n",
    "\n",
    "pipe_XGB = Pipeline([(\"prep\", prepocessor),(\"algo\", XGBClassifier())])"
   ]
  },
  {
   "cell_type": "markdown",
   "id": "3eec2349",
   "metadata": {},
   "source": [
    "## Logistic Regression"
   ]
  },
  {
   "cell_type": "code",
   "execution_count": 11,
   "id": "fe57765a",
   "metadata": {},
   "outputs": [],
   "source": [
    "pipe_logreg.fit(X_train, y_train)\n",
    "y_train_pred_LR = pipe_logreg.predict(X_train)\n",
    "y_test_pred_LR = pipe_logreg.predict(X_test)"
   ]
  },
  {
   "cell_type": "code",
   "execution_count": 12,
   "id": "656823c3",
   "metadata": {},
   "outputs": [
    {
     "name": "stdout",
     "output_type": "stream",
     "text": [
      "Training Accuracy:  0.8030529058284658\n",
      "Testing Accuracy:  0.8014959240272291\n"
     ]
    }
   ],
   "source": [
    "LR_model_train = accuracy_score(y_train_pred_LR, y_train)\n",
    "LR_model_test = accuracy_score(y_test_pred_LR, y_test)\n",
    "\n",
    "print(\"Training Accuracy: \",LR_model_train)\n",
    "print(f\"Testing Accuracy: \",LR_model_test)"
   ]
  },
  {
   "cell_type": "code",
   "execution_count": 13,
   "id": "443dd112",
   "metadata": {},
   "outputs": [
    {
     "name": "stdout",
     "output_type": "stream",
     "text": [
      "The classification report for Logistic Regression training set is\n",
      "               precision    recall  f1-score   support\n",
      "\n",
      "           0       0.80      0.91      0.85     59897\n",
      "           1       0.81      0.62      0.70     35291\n",
      "\n",
      "    accuracy                           0.80     95188\n",
      "   macro avg       0.80      0.77      0.78     95188\n",
      "weighted avg       0.80      0.80      0.80     95188\n",
      "\n"
     ]
    }
   ],
   "source": [
    "print('The classification report for Logistic Regression training set is\\n',classification_report(y_train, y_train_pred_LR ))"
   ]
  },
  {
   "cell_type": "code",
   "execution_count": 14,
   "id": "d66bf318",
   "metadata": {},
   "outputs": [
    {
     "data": {
      "image/png": "[encoded data removed]",
      "text/plain": [
       "<Figure size 640x480 with 2 Axes>"
      ]
     },
     "metadata": {},
     "output_type": "display_data"
    }
   ],
   "source": [
    "sns.heatmap((confusion_matrix(y_train_pred_LR,y_train)),annot=True,fmt='.5g',cmap='Blues');\n",
    "plt.xlabel('Predicted');\n",
    "plt.ylabel('Actuals',rotation=0);"
   ]
  },
  {
   "cell_type": "code",
   "execution_count": 15,
   "id": "00834bfa",
   "metadata": {},
   "outputs": [
    {
     "name": "stdout",
     "output_type": "stream",
     "text": [
      "The classification report for Logistic Regression testing set is\n",
      "               precision    recall  f1-score   support\n",
      "\n",
      "           0       0.80      0.91      0.85     14975\n",
      "           1       0.80      0.61      0.70      8823\n",
      "\n",
      "    accuracy                           0.80     23798\n",
      "   macro avg       0.80      0.76      0.77     23798\n",
      "weighted avg       0.80      0.80      0.79     23798\n",
      "\n"
     ]
    }
   ],
   "source": [
    "print('The classification report for Logistic Regression testing set is\\n',classification_report(y_test, y_test_pred_LR))"
   ]
  },
  {
   "cell_type": "code",
   "execution_count": 16,
   "id": "bd1027da",
   "metadata": {},
   "outputs": [
    {
     "data": {
      "image/png": "[encoded data removed]",
      "text/plain": [
       "<Figure size 640x480 with 2 Axes>"
      ]
     },
     "metadata": {},
     "output_type": "display_data"
    }
   ],
   "source": [
    "sns.heatmap((confusion_matrix(y_test_pred_LR,y_test)),annot=True,fmt='.5g',cmap='Blues');\n",
    "plt.xlabel('Predicted');\n",
    "plt.ylabel('Actuals',rotation=0);"
   ]
  },
  {
   "cell_type": "markdown",
   "id": "008d938f",
   "metadata": {},
   "source": [
    "## Decision Tree"
   ]
  },
  {
   "cell_type": "code",
   "execution_count": 17,
   "id": "c5f1b8ee",
   "metadata": {},
   "outputs": [],
   "source": [
    "pipe_DT.fit(X_train, y_train)\n",
    "y_train_pred_DT = pipe_DT.predict(X_train)\n",
    "y_test_pred_DT = pipe_DT.predict(X_test)"
   ]
  },
  {
   "cell_type": "code",
   "execution_count": 18,
   "id": "a1302c64",
   "metadata": {},
   "outputs": [
    {
     "name": "stdout",
     "output_type": "stream",
     "text": [
      "Training Accuracy:  0.9415997814850612\n",
      "Testing Accuracy:  0.8317505672745609\n"
     ]
    }
   ],
   "source": [
    "DT_model_train = accuracy_score(y_train, y_train_pred_DT)\n",
    "DT_model_test = accuracy_score(y_test, y_test_pred_DT)\n",
    "\n",
    "print(\"Training Accuracy: \",DT_model_train)\n",
    "print(f\"Testing Accuracy: \",DT_model_test)"
   ]
  },
  {
   "cell_type": "code",
   "execution_count": 19,
   "id": "b77612bd",
   "metadata": {},
   "outputs": [
    {
     "name": "stdout",
     "output_type": "stream",
     "text": [
      "The classification report for Decission Tree training set is\n",
      "               precision    recall  f1-score   support\n",
      "\n",
      "           0       0.93      0.98      0.95     59897\n",
      "           1       0.95      0.88      0.92     35291\n",
      "\n",
      "    accuracy                           0.94     95188\n",
      "   macro avg       0.94      0.93      0.94     95188\n",
      "weighted avg       0.94      0.94      0.94     95188\n",
      "\n"
     ]
    }
   ],
   "source": [
    "print('The classification report for Decission Tree training set is\\n',classification_report(y_train, y_train_pred_DT))"
   ]
  },
  {
   "cell_type": "code",
   "execution_count": 20,
   "id": "fdb1cf72",
   "metadata": {},
   "outputs": [
    {
     "data": {
      "image/png": "[encoded data removed]",
      "text/plain": [
       "<Figure size 640x480 with 2 Axes>"
      ]
     },
     "metadata": {},
     "output_type": "display_data"
    }
   ],
   "source": [
    "sns.heatmap((confusion_matrix(y_train_pred_DT,y_train)),annot=True,fmt='.5g',cmap='Blues');\n",
    "plt.xlabel('Predicted');\n",
    "plt.ylabel('Actuals',rotation=0);"
   ]
  },
  {
   "cell_type": "code",
   "execution_count": 21,
   "id": "173b558a",
   "metadata": {},
   "outputs": [
    {
     "name": "stdout",
     "output_type": "stream",
     "text": [
      "The classification report for Decission Tree testing set is\n",
      "               precision    recall  f1-score   support\n",
      "\n",
      "           0       0.85      0.88      0.87     14975\n",
      "           1       0.79      0.74      0.77      8823\n",
      "\n",
      "    accuracy                           0.83     23798\n",
      "   macro avg       0.82      0.81      0.82     23798\n",
      "weighted avg       0.83      0.83      0.83     23798\n",
      "\n"
     ]
    }
   ],
   "source": [
    "print('The classification report for Decission Tree testing set is\\n',classification_report(y_test, y_test_pred_DT ))"
   ]
  },
  {
   "cell_type": "code",
   "execution_count": 31,
   "id": "91313831",
   "metadata": {},
   "outputs": [
    {
     "data": {
      "image/png": "[encoded data removed]",
      "text/plain": [
       "<Figure size 640x480 with 2 Axes>"
      ]
     },
     "metadata": {},
     "output_type": "display_data"
    }
   ],
   "source": [
    "sns.heatmap((confusion_matrix(y_test_pred_DT,y_test)),annot=True,fmt='.5g',cmap='Blues');\n",
    "plt.xlabel('Predicted');\n",
    "plt.ylabel('Actuals',rotation=0);"
   ]
  },
  {
   "cell_type": "markdown",
   "id": "904213e4",
   "metadata": {},
   "source": [
    "## Random Forest"
   ]
  },
  {
   "cell_type": "code",
   "execution_count": 22,
   "id": "02e51400",
   "metadata": {},
   "outputs": [],
   "source": [
    "pipe_RF.fit(X_train, y_train)\n",
    "y_train_pred_RF = pipe_RF.predict(X_train)\n",
    "y_test_pred_RF = pipe_RF.predict(X_test)"
   ]
  },
  {
   "cell_type": "code",
   "execution_count": 23,
   "id": "cfb622ca",
   "metadata": {},
   "outputs": [
    {
     "name": "stdout",
     "output_type": "stream",
     "text": [
      "Training Accuracy:  0.9415682649073412\n",
      "Testing Accuracy:  0.8414992856542567\n"
     ]
    }
   ],
   "source": [
    "RF_model_train = accuracy_score(y_train, y_train_pred_RF)\n",
    "RF_model_test = accuracy_score(y_test, y_test_pred_RF)\n",
    "\n",
    "print(\"Training Accuracy: \",RF_model_train)\n",
    "print(f\"Testing Accuracy: \",RF_model_test)"
   ]
  },
  {
   "cell_type": "code",
   "execution_count": 25,
   "id": "806c74bb",
   "metadata": {},
   "outputs": [
    {
     "name": "stdout",
     "output_type": "stream",
     "text": [
      "The classification report for Random Forest training set is\n",
      "               precision    recall  f1-score   support\n",
      "\n",
      "           0       0.95      0.96      0.95     59897\n",
      "           1       0.93      0.91      0.92     35291\n",
      "\n",
      "    accuracy                           0.94     95188\n",
      "   macro avg       0.94      0.93      0.94     95188\n",
      "weighted avg       0.94      0.94      0.94     95188\n",
      "\n"
     ]
    }
   ],
   "source": [
    "print('The classification report for Random Forest training set is\\n',classification_report(y_train, y_train_pred_RF))"
   ]
  },
  {
   "cell_type": "code",
   "execution_count": 26,
   "id": "ab359282",
   "metadata": {},
   "outputs": [
    {
     "data": {
      "image/png": "[encoded data removed]",
      "text/plain": [
       "<Figure size 640x480 with 2 Axes>"
      ]
     },
     "metadata": {},
     "output_type": "display_data"
    }
   ],
   "source": [
    "sns.heatmap((confusion_matrix(y_train_pred_RF,y_train)),annot=True,fmt='.5g',cmap='Blues');\n",
    "plt.xlabel('Predicted');\n",
    "plt.ylabel('Actuals',rotation=0);"
   ]
  },
  {
   "cell_type": "code",
   "execution_count": 27,
   "id": "e0478422",
   "metadata": {},
   "outputs": [
    {
     "name": "stdout",
     "output_type": "stream",
     "text": [
      "The classification report for Random Forest testing set is\n",
      "               precision    recall  f1-score   support\n",
      "\n",
      "           0       0.86      0.89      0.88     14975\n",
      "           1       0.80      0.76      0.78      8823\n",
      "\n",
      "    accuracy                           0.84     23798\n",
      "   macro avg       0.83      0.83      0.83     23798\n",
      "weighted avg       0.84      0.84      0.84     23798\n",
      "\n"
     ]
    }
   ],
   "source": [
    "print('The classification report for Random Forest testing set is\\n',classification_report(y_test, y_test_pred_RF))"
   ]
  },
  {
   "cell_type": "code",
   "execution_count": 28,
   "id": "f08159de",
   "metadata": {},
   "outputs": [
    {
     "data": {
      "image/png": "[encoded data removed]",
      "text/plain": [
       "<Figure size 640x480 with 2 Axes>"
      ]
     },
     "metadata": {},
     "output_type": "display_data"
    }
   ],
   "source": [
    "sns.heatmap((confusion_matrix(y_test_pred_RF,y_test)),annot=True,fmt='.5g',cmap='Blues');\n",
    "plt.xlabel('Predicted');\n",
    "plt.ylabel('Actuals',rotation=0);"
   ]
  },
  {
   "cell_type": "markdown",
   "id": "2f0f9751",
   "metadata": {},
   "source": [
    "## XGBoost"
   ]
  },
  {
   "cell_type": "code",
   "execution_count": 29,
   "id": "4945656c",
   "metadata": {},
   "outputs": [],
   "source": [
    "pipe_XGB.fit(X_train, y_train)\n",
    "y_train_pred_XGB = pipe_XGB.predict(X_train)\n",
    "y_test_pred_XGB = pipe_XGB.predict(X_test)"
   ]
  },
  {
   "cell_type": "code",
   "execution_count": 30,
   "id": "52dd40e8",
   "metadata": {},
   "outputs": [
    {
     "name": "stdout",
     "output_type": "stream",
     "text": [
      "Training Accuracy:  0.8587742152372148\n",
      "Testing Accuracy:  0.8480964786956887\n"
     ]
    }
   ],
   "source": [
    "XGB_model_train = accuracy_score(y_train, y_train_pred_XGB)\n",
    "XGB_model_test = accuracy_score(y_test, y_test_pred_XGB)\n",
    "\n",
    "print(\"Training Accuracy: \",XGB_model_train)\n",
    "print(f\"Testing Accuracy: \",XGB_model_test)"
   ]
  },
  {
   "cell_type": "code",
   "execution_count": 31,
   "id": "30d2351a",
   "metadata": {},
   "outputs": [
    {
     "name": "stdout",
     "output_type": "stream",
     "text": [
      "The classification report for XG Boost training set is\n",
      "               precision    recall  f1-score   support\n",
      "\n",
      "           0       0.87      0.91      0.89     59897\n",
      "           1       0.84      0.76      0.80     35291\n",
      "\n",
      "    accuracy                           0.86     95188\n",
      "   macro avg       0.85      0.84      0.85     95188\n",
      "weighted avg       0.86      0.86      0.86     95188\n",
      "\n"
     ]
    }
   ],
   "source": [
    "print('The classification report for XG Boost training set is\\n',classification_report(y_train, y_train_pred_XGB))"
   ]
  },
  {
   "cell_type": "code",
   "execution_count": 32,
   "id": "0b786ecd",
   "metadata": {},
   "outputs": [
    {
     "data": {
      "image/png": "[encoded data removed]",
      "text/plain": [
       "<Figure size 640x480 with 2 Axes>"
      ]
     },
     "metadata": {},
     "output_type": "display_data"
    }
   ],
   "source": [
    "sns.heatmap((confusion_matrix(y_train_pred_XGB,y_train)),annot=True,fmt='.5g',cmap='Blues');\n",
    "plt.xlabel('Predicted');\n",
    "plt.ylabel('Actuals',rotation=0);"
   ]
  },
  {
   "cell_type": "code",
   "execution_count": 33,
   "id": "cb03c25c",
   "metadata": {},
   "outputs": [
    {
     "name": "stdout",
     "output_type": "stream",
     "text": [
      "The classification report for XG Boost testing set is\n",
      "               precision    recall  f1-score   support\n",
      "\n",
      "           0       0.86      0.91      0.88     14975\n",
      "           1       0.82      0.75      0.79      8823\n",
      "\n",
      "    accuracy                           0.85     23798\n",
      "   macro avg       0.84      0.83      0.83     23798\n",
      "weighted avg       0.85      0.85      0.85     23798\n",
      "\n"
     ]
    }
   ],
   "source": [
    "print('The classification report for XG Boost testing set is\\n',classification_report(y_test, y_test_pred_XGB))"
   ]
  },
  {
   "cell_type": "code",
   "execution_count": 34,
   "id": "426d642b",
   "metadata": {},
   "outputs": [
    {
     "data": {
      "image/png": "[encoded data removed]",
      "text/plain": [
       "<Figure size 640x480 with 2 Axes>"
      ]
     },
     "metadata": {},
     "output_type": "display_data"
    }
   ],
   "source": [
    "sns.heatmap((confusion_matrix(y_test_pred_XGB, y_test)),annot=True,fmt='.5g',cmap='Blues');\n",
    "plt.xlabel('Predicted');\n",
    "plt.ylabel('Actuals',rotation=0);"
   ]
  },
  {
   "cell_type": "markdown",
   "id": "087dc63b",
   "metadata": {},
   "source": [
    "## Comparing each model Training and Testing Score"
   ]
  },
  {
   "cell_type": "code",
   "execution_count": 35,
   "id": "811c9d68",
   "metadata": {},
   "outputs": [],
   "source": [
    "from IPython.core.display import display, HTML\n",
    "\n",
    "def display_side_by_side(dfs:list, captions:list):\n",
    "    \"\"\"Display tables side by side to save vertical space\n",
    "    Input:\n",
    "        dfs: list of pandas.DataFrame\n",
    "        captions: list of table captions\n",
    "    \"\"\"\n",
    "    output = \"\"\n",
    "    combined = dict(zip(captions, dfs))\n",
    "    for caption, df in combined.items():\n",
    "        output += df.style.set_table_attributes(\"style='display:inline'\").set_caption(caption)._repr_html_()\n",
    "        output += \"\\xa0\\xa0\\xa0\"\n",
    "    display(HTML(output))"
   ]
  },
  {
   "cell_type": "code",
   "execution_count": 36,
   "id": "c13228c0",
   "metadata": {},
   "outputs": [
    {
     "data": {
      "text/html": [
       "<style type=\"text/css\">\n",
       "</style>\n",
       "<table id=\"T_3a636\" style='display:inline'>\n",
       "  <caption>Accuracy Train & Test</caption>\n",
       "  <thead>\n",
       "    <tr>\n",
       "      <th class=\"blank level0\" >&nbsp;</th>\n",
       "      <th id=\"T_3a636_level0_col0\" class=\"col_heading level0 col0\" >Training</th>\n",
       "      <th id=\"T_3a636_level0_col1\" class=\"col_heading level0 col1\" >Testing</th>\n",
       "    </tr>\n",
       "  </thead>\n",
       "  <tbody>\n",
       "    <tr>\n",
       "      <th id=\"T_3a636_level0_row0\" class=\"row_heading level0 row0\" >Logistic Regression</th>\n",
       "      <td id=\"T_3a636_row0_col0\" class=\"data row0 col0\" >0.803053</td>\n",
       "      <td id=\"T_3a636_row0_col1\" class=\"data row0 col1\" >0.801496</td>\n",
       "    </tr>\n",
       "    <tr>\n",
       "      <th id=\"T_3a636_level0_row1\" class=\"row_heading level0 row1\" >Decision Tree</th>\n",
       "      <td id=\"T_3a636_row1_col0\" class=\"data row1 col0\" >0.941600</td>\n",
       "      <td id=\"T_3a636_row1_col1\" class=\"data row1 col1\" >0.831751</td>\n",
       "    </tr>\n",
       "    <tr>\n",
       "      <th id=\"T_3a636_level0_row2\" class=\"row_heading level0 row2\" >Random Forest</th>\n",
       "      <td id=\"T_3a636_row2_col0\" class=\"data row2 col0\" >0.941568</td>\n",
       "      <td id=\"T_3a636_row2_col1\" class=\"data row2 col1\" >0.841499</td>\n",
       "    </tr>\n",
       "    <tr>\n",
       "      <th id=\"T_3a636_level0_row3\" class=\"row_heading level0 row3\" >XGB</th>\n",
       "      <td id=\"T_3a636_row3_col0\" class=\"data row3 col0\" >0.858774</td>\n",
       "      <td id=\"T_3a636_row3_col1\" class=\"data row3 col1\" >0.848096</td>\n",
       "    </tr>\n",
       "  </tbody>\n",
       "</table>\n",
       "   "
      ],
      "text/plain": [
       "<IPython.core.display.HTML object>"
      ]
     },
     "metadata": {},
     "output_type": "display_data"
    }
   ],
   "source": [
    "evaluation_matrix_base_training = {\"Training\" : [LR_model_train, DT_model_train, RF_model_train, XGB_model_train],\n",
    "                                   \"Testing\" : [LR_model_test, DT_model_test, RF_model_test, XGB_model_test]}\n",
    "\n",
    "eva_base_training = pd.DataFrame(data = evaluation_matrix_base_training, index = ['Logistic Regression' ,'Decision Tree', 'Random Forest', 'XGB'])\n",
    "\n",
    "eva_base_training\n",
    "    \n",
    "display_side_by_side([eva_base_training], ['Accuracy Train & Test'])"
   ]
  },
  {
   "cell_type": "markdown",
   "id": "fe4ced43",
   "metadata": {},
   "source": [
    "## Hyperparameter Tuning"
   ]
  },
  {
   "cell_type": "markdown",
   "id": "83efbf4d",
   "metadata": {},
   "source": [
    "### Logistic Regression"
   ]
  },
  {
   "cell_type": "code",
   "execution_count": 37,
   "id": "edcaa949",
   "metadata": {},
   "outputs": [
    {
     "name": "stdout",
     "output_type": "stream",
     "text": [
      "Fitting 3 folds for each of 30 candidates, totalling 90 fits\n"
     ]
    },
    {
     "data": {
      "text/plain": [
       "GridSearchCV(cv=3,\n",
       "             estimator=Pipeline(steps=[('prep',\n",
       "                                        ColumnTransformer(transformers=[('categorical',\n",
       "                                                                         Pipeline(steps=[('encoder',\n",
       "                                                                                          OneHotEncoder())]),\n",
       "                                                                         ['market_segment',\n",
       "                                                                          'deposit_type',\n",
       "                                                                          'customer_type']),\n",
       "                                                                        ('numerical',\n",
       "                                                                         Pipeline(steps=[('scaler',\n",
       "                                                                                          RobustScaler())]),\n",
       "                                                                         ['lead_time',\n",
       "                                                                          'is_repeated_guest',\n",
       "                                                                          'total_of_special_requests',\n",
       "                                                                          'stays',\n",
       "                                                                          'guests',\n",
       "                                                                          'is_previously_cancelled',\n",
       "                                                                          'is_booking_changes',\n",
       "                                                                          'parking_space',\n",
       "                                                                          'hotel_label',\n",
       "                                                                          'booking_country_label'])])),\n",
       "                                       ('algo', LogisticRegression())]),\n",
       "             n_jobs=-1,\n",
       "             param_grid={'algo__C': [1.0, 2.0, 3.0, 0.5, 0.1],\n",
       "                         'algo__class_weight': [None, 'balanced'],\n",
       "                         'algo__penalty': ['l2', 'l1', 'elasticnet']},\n",
       "             scoring='accuracy', verbose=1)"
      ]
     },
     "execution_count": 37,
     "metadata": {},
     "output_type": "execute_result"
    }
   ],
   "source": [
    "param_logreg = {\n",
    "    'algo__penalty':['l2', 'l1', 'elasticnet'],\n",
    "    'algo__C':[1.0, 2.0, 3.0, 0.5, 0.1],\n",
    "    'algo__class_weight':[None, 'balanced']\n",
    "}\n",
    "\n",
    "model_logreg = GridSearchCV(estimator=pipe_logreg, param_grid=param_logreg, cv = 3, n_jobs = -1, verbose = 1, scoring='accuracy')\n",
    "model_logreg.fit(X_train, y_train)"
   ]
  },
  {
   "cell_type": "code",
   "execution_count": 38,
   "id": "8859e957",
   "metadata": {},
   "outputs": [],
   "source": [
    "logreg_tuned = model_logreg.best_estimator_\n",
    "logreg_tuned_train = model_logreg.best_score_\n",
    "logreg_tuned_test = logreg_tuned.predict(X_test) "
   ]
  },
  {
   "cell_type": "code",
   "execution_count": 39,
   "id": "056335f0",
   "metadata": {},
   "outputs": [
    {
     "name": "stdout",
     "output_type": "stream",
     "text": [
      "Training Accuracy:  0.8028637987034535\n",
      "Testing Accuracy:  0.8016219850407598\n"
     ]
    }
   ],
   "source": [
    "logreg_model_tuned_train = logreg_tuned_train\n",
    "logreg_model_tuned_test = accuracy_score(y_test, logreg_tuned_test)\n",
    "\n",
    "print(\"Training Accuracy: \",logreg_model_tuned_train)\n",
    "print(f\"Testing Accuracy: \",logreg_model_tuned_test)"
   ]
  },
  {
   "cell_type": "code",
   "execution_count": 40,
   "id": "f72da7c8",
   "metadata": {},
   "outputs": [
    {
     "name": "stdout",
     "output_type": "stream",
     "text": [
      "The classification report for Logestic Regression testing data set is\n",
      "               precision    recall  f1-score   support\n",
      "\n",
      "           0       0.80      0.91      0.85     14975\n",
      "           1       0.80      0.61      0.70      8823\n",
      "\n",
      "    accuracy                           0.80     23798\n",
      "   macro avg       0.80      0.76      0.77     23798\n",
      "weighted avg       0.80      0.80      0.79     23798\n",
      "\n"
     ]
    }
   ],
   "source": [
    "print('The classification report for Logestic Regression testing data set is\\n',classification_report(y_test, logreg_tuned_test))"
   ]
  },
  {
   "cell_type": "code",
   "execution_count": 41,
   "id": "19d2a1a3",
   "metadata": {},
   "outputs": [
    {
     "data": {
      "image/png": "[encoded data removed]",
      "text/plain": [
       "<Figure size 640x480 with 2 Axes>"
      ]
     },
     "metadata": {},
     "output_type": "display_data"
    }
   ],
   "source": [
    "sns.heatmap((confusion_matrix(logreg_tuned_test, y_test)),annot=True,fmt='.5g',cmap='Blues');\n",
    "plt.xlabel('Predicted'); \n",
    "plt.ylabel('Actuals',rotation=0);"
   ]
  },
  {
   "cell_type": "markdown",
   "id": "78664033",
   "metadata": {},
   "source": [
    "### Decision Tree"
   ]
  },
  {
   "cell_type": "code",
   "execution_count": 42,
   "id": "2028f4b1",
   "metadata": {},
   "outputs": [
    {
     "name": "stdout",
     "output_type": "stream",
     "text": [
      "Fitting 3 folds for each of 350 candidates, totalling 1050 fits\n"
     ]
    },
    {
     "data": {
      "text/plain": [
       "GridSearchCV(cv=3,\n",
       "             estimator=Pipeline(steps=[('prep',\n",
       "                                        ColumnTransformer(transformers=[('categorical',\n",
       "                                                                         Pipeline(steps=[('encoder',\n",
       "                                                                                          OneHotEncoder())]),\n",
       "                                                                         ['market_segment',\n",
       "                                                                          'deposit_type',\n",
       "                                                                          'customer_type']),\n",
       "                                                                        ('numerical',\n",
       "                                                                         Pipeline(steps=[('scaler',\n",
       "                                                                                          RobustScaler())]),\n",
       "                                                                         ['lead_time',\n",
       "                                                                          'is_repeated_guest',\n",
       "                                                                          'total_of_special_requests',\n",
       "                                                                          'stays',\n",
       "                                                                          'guests',\n",
       "                                                                          'is_previously_cancelled',\n",
       "                                                                          'is_booking_changes',\n",
       "                                                                          'parking_space',\n",
       "                                                                          'hotel_label',\n",
       "                                                                          'booking_country_label'])])),\n",
       "                                       ('algo', DecisionTreeClassifier())]),\n",
       "             n_jobs=-1,\n",
       "             param_grid={'algo__max_depth': [None, 1, 2, 4, 8, 10, 12, 14, 18,\n",
       "                                             20],\n",
       "                         'algo__min_samples_leaf': [1, 2, 4, 5, 8],\n",
       "                         'algo__min_samples_split': [2, 1, 3, 4, 6, 8, 10]},\n",
       "             scoring='accuracy', verbose=1)"
      ]
     },
     "execution_count": 42,
     "metadata": {},
     "output_type": "execute_result"
    }
   ],
   "source": [
    "param_DT = {\n",
    "    'algo__min_samples_split': [2,1,3,4,6,8,10,],\n",
    "    'algo__max_depth': [None,1,2,4,8,10,12,14,18, 20],\n",
    "    'algo__min_samples_leaf':[1,2,4,5,8]\n",
    "}\n",
    "\n",
    "model_DT = GridSearchCV(estimator=pipe_DT, param_grid=param_DT, cv = 3, n_jobs = -1, verbose = 1, scoring='accuracy')\n",
    "model_DT.fit(X_train, y_train)"
   ]
  },
  {
   "cell_type": "code",
   "execution_count": 43,
   "id": "ec94b2ef",
   "metadata": {},
   "outputs": [],
   "source": [
    "DT_tuned = model_DT.best_estimator_\n",
    "DT_tuned_train = model_DT.best_score_\n",
    "DT_tuned_test = DT_tuned.predict(X_test) "
   ]
  },
  {
   "cell_type": "code",
   "execution_count": 44,
   "id": "f726ccbf",
   "metadata": {},
   "outputs": [
    {
     "name": "stdout",
     "output_type": "stream",
     "text": [
      "Training Accuracy:  0.836229337622679\n",
      "Testing Accuracy:  0.8380115976132448\n"
     ]
    }
   ],
   "source": [
    "DT_model_tuned_train = DT_tuned_train\n",
    "DT_model_tuned_test = accuracy_score(y_test, DT_tuned_test)\n",
    "\n",
    "print(\"Training Accuracy: \",DT_model_tuned_train)\n",
    "print(f\"Testing Accuracy: \",DT_model_tuned_test)"
   ]
  },
  {
   "cell_type": "code",
   "execution_count": 45,
   "id": "320869ab",
   "metadata": {},
   "outputs": [
    {
     "name": "stdout",
     "output_type": "stream",
     "text": [
      "The classification report for Decision Tree testing data set is\n",
      "               precision    recall  f1-score   support\n",
      "\n",
      "           0       0.85      0.90      0.87     14975\n",
      "           1       0.81      0.74      0.77      8823\n",
      "\n",
      "    accuracy                           0.84     23798\n",
      "   macro avg       0.83      0.82      0.82     23798\n",
      "weighted avg       0.84      0.84      0.84     23798\n",
      "\n"
     ]
    }
   ],
   "source": [
    "print('The classification report for Decision Tree testing data set is\\n',classification_report(y_test, DT_tuned_test))"
   ]
  },
  {
   "cell_type": "code",
   "execution_count": 46,
   "id": "fd3b4d15",
   "metadata": {},
   "outputs": [
    {
     "data": {
      "image/png": "[encoded data removed]",
      "text/plain": [
       "<Figure size 640x480 with 2 Axes>"
      ]
     },
     "metadata": {},
     "output_type": "display_data"
    }
   ],
   "source": [
    "sns.heatmap((confusion_matrix(DT_tuned_test, y_test)),annot=True,fmt='.5g',cmap='Blues');\n",
    "plt.xlabel('Predicted'); \n",
    "plt.ylabel('Actuals',rotation=0);"
   ]
  },
  {
   "cell_type": "markdown",
   "id": "56f7f699",
   "metadata": {},
   "source": [
    "### Random Forest"
   ]
  },
  {
   "cell_type": "code",
   "execution_count": null,
   "id": "0dbc03aa",
   "metadata": {},
   "outputs": [
    {
     "name": "stdout",
     "output_type": "stream",
     "text": [
      "Fitting 3 folds for each of 480 candidates, totalling 1440 fits\n"
     ]
    }
   ],
   "source": [
    "param_RF = {\n",
    "    'algo__min_samples_split': [2,3,4,6,8,10],\n",
    "    'algo__max_depth': [None,12,14,18, 20],\n",
    "    'algo__min_samples_leaf':[1,2,4,8],\n",
    "    'algo__max_leaf_nodes':[None, 1,2,4]\n",
    "}\n",
    "\n",
    "model_RF = GridSearchCV(estimator=pipe_RF, param_grid=param_RF, cv = 3, n_jobs = -1, verbose = 1, scoring='accuracy')\n",
    "model_RF.fit(X_train, y_train)"
   ]
  },
  {
   "cell_type": "code",
   "execution_count": null,
   "id": "9d70c023",
   "metadata": {},
   "outputs": [],
   "source": [
    "RF_tuned = model_RF.best_estimator_\n",
    "RF_tuned_train = model_RF.best_score_\n",
    "RF_tuned_test = RF_tuned.predict(X_test) "
   ]
  },
  {
   "cell_type": "code",
   "execution_count": null,
   "id": "b7ad5cbb",
   "metadata": {},
   "outputs": [],
   "source": [
    "RF_model_tuned_train = RF_tuned_train\n",
    "RF_model_tuned_test = accuracy_score(y_test, RF_tuned_test)\n",
    "\n",
    "print(\"Training Accuracy: \",RF_model_tuned_train)\n",
    "print(f\"Testing Accuracy: \",RF_model_tuned_test)"
   ]
  },
  {
   "cell_type": "code",
   "execution_count": null,
   "id": "8145dfbf",
   "metadata": {},
   "outputs": [],
   "source": [
    "print('The classification report for Random Forest testing data set is\\n',classification_report(y_test, RF_tuned_test))"
   ]
  },
  {
   "cell_type": "code",
   "execution_count": null,
   "id": "79a239b9",
   "metadata": {},
   "outputs": [],
   "source": [
    "sns.heatmap((confusion_matrix(RF_tuned_test, y_test)),annot=True,fmt='.5g',cmap='Blues');\n",
    "plt.xlabel('Predicted'); \n",
    "plt.ylabel('Actuals',rotation=0);"
   ]
  },
  {
   "cell_type": "markdown",
   "id": "17c0046c",
   "metadata": {},
   "source": [
    "### XGBoost\n"
   ]
  },
  {
   "cell_type": "code",
   "execution_count": null,
   "id": "6443381c",
   "metadata": {},
   "outputs": [],
   "source": [
    "param_XGB = {\n",
    "    'algo__learning_rate': [0.300000012, 0.5, 0.7, 0.8],\n",
    "    'algo__max_depth': [6, 8, 10, 12],\n",
    "    'algo__gamma':[0,1,2,3]\n",
    "}\n",
    "\n",
    "model_XGB = GridSearchCV(estimator=pipe_XGB, param_grid=param_XGB, cv = 3, n_jobs = -1, verbose = 1, scoring='accuracy')\n",
    "model_XGB.fit(X_train, y_train)"
   ]
  },
  {
   "cell_type": "code",
   "execution_count": null,
   "id": "5e2d94b9",
   "metadata": {},
   "outputs": [],
   "source": [
    "XGB_tuned = model_XGB.best_estimator_\n",
    "XGB_tuned_train = model_XGB.best_score_\n",
    "XGB_tuned_test = XGB_tuned.predict(X_test)"
   ]
  },
  {
   "cell_type": "code",
   "execution_count": null,
   "id": "6c59e84e",
   "metadata": {},
   "outputs": [],
   "source": [
    "XGB_model_tuned_train = XGB_tuned_train\n",
    "XGB_model_tuned_test = accuracy_score(y_test, XGB_tuned_test)\n",
    "\n",
    "print(\"Training Accuracy: \",XGB_model_tuned_train)\n",
    "print(f\"Testing Accuracy: \",XGB_model_tuned_test)"
   ]
  },
  {
   "cell_type": "code",
   "execution_count": null,
   "id": "0014aa80",
   "metadata": {},
   "outputs": [],
   "source": [
    "print('The classification report for XG Boost testing data set is\\n',classification_report(y_test, XGB_tuned_test))"
   ]
  },
  {
   "cell_type": "code",
   "execution_count": null,
   "id": "5dfdb9dc",
   "metadata": {},
   "outputs": [],
   "source": [
    "sns.heatmap((confusion_matrix(XGB_tuned_test, y_test)),annot=True,fmt='.5g',cmap='Blues');\n",
    "plt.xlabel('Predicted'); \n",
    "plt.ylabel('Actuals',rotation=0);"
   ]
  },
  {
   "cell_type": "code",
   "execution_count": null,
   "id": "0426c4cd",
   "metadata": {},
   "outputs": [],
   "source": [
    "evaluation_matrix_tuned_training = {\"Training\" : [logreg_model_tuned_train, DT_model_tuned_train, RF_model_tuned_train, XGB_model_tuned_train],\n",
    "                                   \"Testing\" : [logreg_model_tuned_test, DT_model_tuned_test, RF_model_tuned_test, XGB_model_tuned_test]}\n",
    "\n",
    "eva_tuned_training = pd.DataFrame(data = evaluation_matrix_tuned_training, index = ['Logistic Regression' ,'Decision Tree', 'Random Forest', 'XGB'])\n",
    "\n",
    "eva_tuned_training\n",
    "    \n",
    "display_side_by_side([eva_tuned_training], ['Accuracy Train & Test'])"
   ]
  },
  {
   "cell_type": "markdown",
   "id": "ba1af1e1",
   "metadata": {},
   "source": [
    "### Comparing Each Evaluation Matrix"
   ]
  },
  {
   "cell_type": "code",
   "execution_count": null,
   "id": "e00f7d05",
   "metadata": {},
   "outputs": [],
   "source": [
    "display_side_by_side([eva_base_training, eva_tuned_training], ['Base Model', 'Tuned Model'])"
   ]
  },
  {
   "cell_type": "markdown",
   "id": "4e1bd997",
   "metadata": {},
   "source": [
    "## Business Questions:"
   ]
  },
  {
   "cell_type": "markdown",
   "id": "a0b7197d",
   "metadata": {},
   "source": [
    "### - What machine learning algorithm that has the highest accuracy when it comes predicting hotel booking cancellations ?"
   ]
  },
  {
   "cell_type": "markdown",
   "id": "fb79adfc",
   "metadata": {},
   "source": [
    "### Tuned \"Random Forest\" and \"XGB\" Models has The best accuracy among all algorithm's that we have tried\n",
    "From the above evaluation matrix table to predict hotel cancellation classification case, we see that tuned Random Forest has the accuracy of '85.2%' and tuned XGB has the accuracy of '85.3' when it comes to predicting hotel cancellation based on certain features.\n",
    "\n",
    "### Overfitting\n",
    "1. For the base model we see that there are 2 algorithms that has an overfitting condition (Decission Tree & Random Forst).\n",
    "2. After Hyperparameter Tuning on all the algorithm we don't see any overfitting condition, and after the tuning Random Forest and XGB has the highest accuracy score.\n",
    "\n",
    "### How This Model Will become helpfull for hotels... ?\n",
    "1. This model will allow hotel managers to take actions on bookings that's identified as to be canceled and further these models will contribute to the hotel revenue management.\n",
    "2. These prediction models enable hotel managers to reduce revenue loss derived from booking cancellations and to reduce the risks associated with overbooking.This models also allow hotel managers to implement less rules and cancelled fee on cancellation policies without increasing any uncertainty. This has the potential to make a more sales, since less rules and cancelled fee policies generate more bookings."
   ]
  },
  {
   "cell_type": "code",
   "execution_count": null,
   "id": "436c130b",
   "metadata": {},
   "outputs": [],
   "source": []
  }
 ],
 "metadata": {
  "kernelspec": {
   "display_name": "Python 3 (ipykernel)",
   "language": "python",
   "name": "python3"
  },
  "language_info": {
   "codemirror_mode": {
    "name": "ipython",
    "version": 3
   },
   "file_extension": ".py",
   "mimetype": "text/x-python",
   "name": "python",
   "nbconvert_exporter": "python",
   "pygments_lexer": "ipython3",
   "version": "3.9.13"
  }
 },
 "nbformat": 4,
 "nbformat_minor": 5
}
